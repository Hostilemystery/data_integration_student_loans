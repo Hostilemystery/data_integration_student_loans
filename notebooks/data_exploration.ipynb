{
 "cells": [
  {
   "cell_type": "code",
   "execution_count": null,
   "metadata": {},
   "outputs": [],
   "source": [
    "# Import libraries\n",
    "import pandas as pd\n",
    "import matplotlib.pyplot as plt\n",
    "import seaborn as sns\n",
    "\n",
    "# Configure display settings for better readability\n",
    "pd.set_option('display.max_columns', None)\n",
    "sns.set(style=\"whitegrid\")"
   ]
  },
  {
   "cell_type": "code",
   "execution_count": null,
   "metadata": {},
   "outputs": [],
   "source": [
    "# pip install openpyxl\n",
    "# !pip install xlrd\n"
   ]
  },
  {
   "cell_type": "code",
   "execution_count": null,
   "metadata": {},
   "outputs": [],
   "source": [
    "# Load FL_Dashboard files\n",
    "fl_dashboard_q1 = pd.read_excel('../data/raw/FL_Dashboard_AY2009_2010_Q1.xlsx')\n",
    "fl_dashboard_q2 = pd.read_excel('../data/raw/FL_Dashboard_AY2009_2010_Q2.xlsx')\n",
    "fl_dashboard_q3 = pd.read_excel('../data/raw/FL_Dashboard_AY2009_2010_Q3.xls')\n",
    "fl_dashboard_q4 = pd.read_excel('../data/raw/FL_Dashboard_AY2009_2010_Q4.xls')\n",
    "cleaned = pd.read_excel('../data/cleaned_FFEL_data.xlsx')\n",
    "\n",
    "# Load 1617fedschoolcodelist file\n",
    "school_codes = pd.read_excel('../data/1617fedschoolcodelist.xls')"
   ]
  },
  {
   "cell_type": "code",
   "execution_count": null,
   "metadata": {},
   "outputs": [],
   "source": [
    "print(\"FL dashboard q1\")\n",
    "display(fl_dashboard_q1.head())"
   ]
  },
  {
   "cell_type": "code",
   "execution_count": null,
   "metadata": {},
   "outputs": [],
   "source": [
    "print(\"FL dashboard q3\")\n",
    "display(fl_dashboard_q2.head())"
   ]
  },
  {
   "cell_type": "code",
   "execution_count": null,
   "metadata": {},
   "outputs": [],
   "source": [
    "print(\"FL dashboard q3\")\n",
    "display(fl_dashboard_q3.head())"
   ]
  },
  {
   "cell_type": "code",
   "execution_count": null,
   "metadata": {},
   "outputs": [],
   "source": [
    "print(\"FL dashboard q4\")\n",
    "display(fl_dashboard_q4.head())"
   ]
  },
  {
   "cell_type": "code",
   "execution_count": null,
   "metadata": {},
   "outputs": [],
   "source": [
    "print(\"School codes list\")\n",
    "display(cleaned.head())"
   ]
  }
 ],
 "metadata": {
  "kernelspec": {
   "display_name": "myenv",
   "language": "python",
   "name": "python3"
  },
  "language_info": {
   "codemirror_mode": {
    "name": "ipython",
    "version": 3
   },
   "file_extension": ".py",
   "mimetype": "text/x-python",
   "name": "python",
   "nbconvert_exporter": "python",
   "pygments_lexer": "ipython3",
   "version": "3.12.7"
  }
 },
 "nbformat": 4,
 "nbformat_minor": 2
}
