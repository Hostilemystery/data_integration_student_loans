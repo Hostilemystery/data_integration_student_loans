{
 "cells": [
  {
   "cell_type": "code",
   "execution_count": null,
   "metadata": {},
   "outputs": [],
   "source": [
    "from pyspark.sql import functions as F\n",
    "\n",
    "def calculate_total_loans_per_school(df):\n",
    "    total_loans = df.groupBy(\"SchoolName\").agg(\n",
    "        F.sum(\"ffel_subsidized_amount_of_loans_originated\").alias(\"Total_Subsidized\"),\n",
    "        F.sum(\"ffel_unsubsidized_amount_of_loans_originated\").alias(\"Total_Unsubsidized\"),\n",
    "        F.sum(\"ffel_stafford_amount_of_loans_originated\").alias(\"Total_Stafford\"),\n",
    "        F.sum(\"ffel_plus_amount_of_loans_originated\").alias(\"Total_PLUS\")\n",
    "    )\n",
    "    total_loans = total_loans.withColumn(\n",
    "        \"Total_Loans\",\n",
    "        F.expr(\"Total_Subsidized + Total_Unsubsidized + Total_Stafford + Total_PLUS\")\n",
    "    )\n",
    "    return total_loans\n"
   ]
  },
  {
   "cell_type": "code",
   "execution_count": null,
   "metadata": {},
   "outputs": [],
   "source": [
    "def calculate_total_loans_per_state(df):\n",
    "    total_loans_state = df.groupBy(\"State\").agg(\n",
    "        F.sum(\"ffel_subsidized_amount_of_loans_originated\").alias(\"Total_Subsidized\"),\n",
    "        F.sum(\"ffel_unsubsidized_amount_of_loans_originated\").alias(\"Total_Unsubsidized\"),\n",
    "        F.sum(\"ffel_stafford_amount_of_loans_originated\").alias(\"Total_Stafford\"),\n",
    "        F.sum(\"ffel_plus_amount_of_loans_originated\").alias(\"Total_PLUS\")\n",
    "    )\n",
    "    total_loans_state = total_loans_state.withColumn(\n",
    "        \"Total_Loans\",\n",
    "        F.expr(\"Total_Subsidized + Total_Unsubsidized + Total_Stafford + Total_PLUS\")\n",
    "    )\n",
    "    return total_loans_state\n"
   ]
  },
  {
   "cell_type": "code",
   "execution_count": null,
   "metadata": {},
   "outputs": [],
   "source": [
    "def calculate_loan_evolution(df):\n",
    "    loan_evolution = df.groupBy(\"Quarter_Start\", \"Quarter_End\").agg(\n",
    "        F.sum(\"ffel_subsidized_amount_of_loans_originated\").alias(\"Total_Subsidized\"),\n",
    "        F.sum(\"ffel_unsubsidized_amount_of_loans_originated\").alias(\"Total_Unsubsidized\"),\n",
    "        F.sum(\"ffel_stafford_amount_of_loans_originated\").alias(\"Total_Stafford\"),\n",
    "        F.sum(\"ffel_plus_amount_of_loans_originated\").alias(\"Total_PLUS\")\n",
    "    )\n",
    "    loan_evolution = loan_evolution.withColumn(\n",
    "        \"Total_Loans\",\n",
    "        F.expr(\"Total_Subsidized + Total_Unsubsidized + Total_Stafford + Total_PLUS\")\n",
    "    )\n",
    "    return loan_evolution.orderBy(\"Quarter_Start\")\n"
   ]
  },
  {
   "cell_type": "code",
   "execution_count": null,
   "metadata": {},
   "outputs": [],
   "source": [
    "def save_metrics(df, path, partition_by=None):\n",
    "    if partition_by:\n",
    "        df.write.mode(\"overwrite\").partitionBy(partition_by).parquet(path)\n",
    "    else:\n",
    "        df.write.mode(\"overwrite\").parquet(path)\n"
   ]
  },
  {
   "cell_type": "code",
   "execution_count": null,
   "metadata": {},
   "outputs": [],
   "source": [
    "from pyspark.sql import SparkSession, functions as F\n",
    "\n",
    "def main():\n",
    "    spark = SparkSession.builder.appName(\"CalculateMetrics\").getOrCreate()\n",
    "\n",
    "    # Lire le DataFrame depuis HDFS\n",
    "    hdfs_parquet_path = \"hdfs://localhost:9080/user/anthonycormeaux/data/result/joined_data\"\n",
    "    df = spark.read.parquet(hdfs_parquet_path)\n",
    "\n",
    "    # Calculer les métriques\n",
    "    total_loans_per_school = calculate_total_loans_per_school(df)\n",
    "    total_loans_per_state = calculate_total_loans_per_state(df)\n",
    "    loan_evolution = calculate_loan_evolution(df)\n",
    "\n",
    "    print(total_loans_per_school.show(5))\n",
    "\n",
    "    # Stocker les résultats\n",
    "    save_metrics(total_loans_per_school, \"hdfs://localhost:9080/user/anthonycormeaux/data/total_loans_per_school\")\n",
    "    save_metrics(total_loans_per_state, \"hdfs://localhost:9080/user/anthonycormeaux/data/total_loans_per_state\")\n",
    "    save_metrics(loan_evolution, \"hdfs://localhost:9080/user/anthonycormeaux/data/loan_evolution\")\n",
    "\n",
    "    spark.stop()\n",
    "\n",
    "if __name__ == \"__main__\":\n",
    "    main()\n"
   ]
  }
 ],
 "metadata": {
  "kernelspec": {
   "display_name": "base",
   "language": "python",
   "name": "python3"
  },
  "language_info": {
   "codemirror_mode": {
    "name": "ipython",
    "version": 3
   },
   "file_extension": ".py",
   "mimetype": "text/x-python",
   "name": "python",
   "nbconvert_exporter": "python",
   "pygments_lexer": "ipython3",
   "version": "3.12.7"
  }
 },
 "nbformat": 4,
 "nbformat_minor": 2
}
